{
 "cells": [
  {
   "cell_type": "code",
   "execution_count": 1,
   "id": "85c3cae7",
   "metadata": {},
   "outputs": [],
   "source": [
    "import findspark\n",
    "\n",
    "findspark.init()"
   ]
  },
  {
   "cell_type": "code",
   "execution_count": 2,
   "id": "fc4e2f03",
   "metadata": {},
   "outputs": [],
   "source": [
    "from pyspark.sql import SparkSession\n",
    "from pyspark.sql.functions import *\n",
    "from pyspark.sql.types import *\n",
    "import pandas as pd\n",
    "import pyodbc"
   ]
  },
  {
   "cell_type": "code",
   "execution_count": 3,
   "id": "4f7d87a1",
   "metadata": {},
   "outputs": [],
   "source": [
    "spark = SparkSession.builder.getOrCreate()"
   ]
  },
  {
   "cell_type": "code",
   "execution_count": 4,
   "id": "eedb4a82",
   "metadata": {},
   "outputs": [],
   "source": [
    "path = \"D:\\\\Dataset\\\\log_content\\\\\""
   ]
  },
  {
   "cell_type": "code",
   "execution_count": 11,
   "id": "e32f3707",
   "metadata": {},
   "outputs": [],
   "source": [
    "df = spark.read.json(path + \"20220401.json\")"
   ]
  },
  {
   "cell_type": "code",
   "execution_count": 16,
   "id": "94c8247a",
   "metadata": {},
   "outputs": [
    {
     "name": "stdout",
     "output_type": "stream",
     "text": [
      "root\n",
      " |-- _id: string (nullable = true)\n",
      " |-- _index: string (nullable = true)\n",
      " |-- _score: long (nullable = true)\n",
      " |-- _source: struct (nullable = true)\n",
      " |    |-- AppName: string (nullable = true)\n",
      " |    |-- Contract: string (nullable = true)\n",
      " |    |-- Mac: string (nullable = true)\n",
      " |    |-- TotalDuration: long (nullable = true)\n",
      " |-- _type: string (nullable = true)\n",
      "\n"
     ]
    }
   ],
   "source": [
    "df.printSchema()"
   ]
  },
  {
   "cell_type": "code",
   "execution_count": 17,
   "id": "f3a6c553",
   "metadata": {},
   "outputs": [],
   "source": [
    "df = df.select(\"_source.AppName\", \"_source.Contract\", \"_source.Mac\", \"_source.TotalDuration\")"
   ]
  },
  {
   "cell_type": "code",
   "execution_count": 18,
   "id": "2311e39e",
   "metadata": {},
   "outputs": [
    {
     "name": "stdout",
     "output_type": "stream",
     "text": [
      "+-------+---------+------------+-------------+\n",
      "|AppName| Contract|         Mac|TotalDuration|\n",
      "+-------+---------+------------+-------------+\n",
      "|  KPLUS|HNH579912|0C96E62FC55C|          254|\n",
      "|  KPLUS|HUFD40665|CCEDDC333614|         1457|\n",
      "|  KPLUS|HNH572635|B068E6A1C5F6|         2318|\n",
      "|  KPLUS|HND141717|08674EE8D2C2|         1452|\n",
      "|  KPLUS|HNH743103|402343C25D7D|          251|\n",
      "|  KPLUS|HNH893773|B84DEE76D3B8|          924|\n",
      "|  KPLUS|HND083642|B84DEE849A0F|         1444|\n",
      "|  KPLUS|DNFD74404|90324BB44C39|          691|\n",
      "|  KPLUS|DTFD21200|B84DEED27709|         1436|\n",
      "|  KPLUS|LDFD05747|0C96E6C95E53|         1434|\n",
      "+-------+---------+------------+-------------+\n",
      "only showing top 10 rows\n",
      "\n"
     ]
    }
   ],
   "source": [
    "df.show(10)"
   ]
  },
  {
   "cell_type": "code",
   "execution_count": 19,
   "id": "0b2d7940",
   "metadata": {},
   "outputs": [],
   "source": [
    "df = df.withColumn(\"Date\", lit(\"2022-04-01\"))"
   ]
  },
  {
   "cell_type": "code",
   "execution_count": 20,
   "id": "d577b26f",
   "metadata": {},
   "outputs": [
    {
     "name": "stdout",
     "output_type": "stream",
     "text": [
      "+-------+---------+------------+-------------+----------+\n",
      "|AppName| Contract|         Mac|TotalDuration|      Date|\n",
      "+-------+---------+------------+-------------+----------+\n",
      "|  KPLUS|HNH579912|0C96E62FC55C|          254|2022-04-01|\n",
      "|  KPLUS|HUFD40665|CCEDDC333614|         1457|2022-04-01|\n",
      "|  KPLUS|HNH572635|B068E6A1C5F6|         2318|2022-04-01|\n",
      "|  KPLUS|HND141717|08674EE8D2C2|         1452|2022-04-01|\n",
      "|  KPLUS|HNH743103|402343C25D7D|          251|2022-04-01|\n",
      "|  KPLUS|HNH893773|B84DEE76D3B8|          924|2022-04-01|\n",
      "|  KPLUS|HND083642|B84DEE849A0F|         1444|2022-04-01|\n",
      "|  KPLUS|DNFD74404|90324BB44C39|          691|2022-04-01|\n",
      "|  KPLUS|DTFD21200|B84DEED27709|         1436|2022-04-01|\n",
      "|  KPLUS|LDFD05747|0C96E6C95E53|         1434|2022-04-01|\n",
      "+-------+---------+------------+-------------+----------+\n",
      "only showing top 10 rows\n",
      "\n"
     ]
    }
   ],
   "source": [
    "df.show(10)"
   ]
  },
  {
   "cell_type": "code",
   "execution_count": 21,
   "id": "7ee57516",
   "metadata": {},
   "outputs": [
    {
     "data": {
      "text/plain": [
       "1498169"
      ]
     },
     "execution_count": 21,
     "metadata": {},
     "output_type": "execute_result"
    }
   ],
   "source": [
    "df.select(\"Mac\").distinct().count()"
   ]
  },
  {
   "cell_type": "code",
   "execution_count": 22,
   "id": "3b47205d",
   "metadata": {},
   "outputs": [
    {
     "name": "stdout",
     "output_type": "stream",
     "text": [
      "+-------+\n",
      "|AppName|\n",
      "+-------+\n",
      "|  KPLUS|\n",
      "|  RELAX|\n",
      "|  CHILD|\n",
      "|CHANNEL|\n",
      "|    VOD|\n",
      "|   FIMS|\n",
      "|  SPORT|\n",
      "+-------+\n",
      "\n"
     ]
    }
   ],
   "source": [
    "df.select(\"AppName\").distinct().show()"
   ]
  },
  {
   "cell_type": "code",
   "execution_count": 23,
   "id": "09d3952d",
   "metadata": {},
   "outputs": [
    {
     "data": {
      "text/plain": [
       "1360622"
      ]
     },
     "execution_count": 23,
     "metadata": {},
     "output_type": "execute_result"
    }
   ],
   "source": [
    "df.select(\"Contract\").distinct().count()"
   ]
  },
  {
   "cell_type": "code",
   "execution_count": 24,
   "id": "2cc4b201",
   "metadata": {},
   "outputs": [],
   "source": [
    "stateDic = {'CHANNEL':'Truyền Hình','DSHD':'Truyền Hình', 'KPLUS':'Truyền Hình','VOD' : 'Phim truyen', 'FIMS': 'Phim truyen','SPORT': 'The thao', 'RELAX': 'Giai tri','CHILD': 'Thieu nhi'}\n",
    "\n",
    "df = df.rdd.map(lambda x: (x.Contract, stateDic[x.AppName], x.Mac, x.TotalDuration, x.Date)).toDF([\"Contract\", \"Type\", \"Mac\", \"TotalDuration\", \"Date\"])"
   ]
  },
  {
   "cell_type": "code",
   "execution_count": 25,
   "id": "149d25ab",
   "metadata": {},
   "outputs": [
    {
     "name": "stdout",
     "output_type": "stream",
     "text": [
      "+---------+-----------+------------+-------------+----------+\n",
      "| Contract|       Type|         Mac|TotalDuration|      Date|\n",
      "+---------+-----------+------------+-------------+----------+\n",
      "|HNH579912|Truyền Hình|0C96E62FC55C|          254|2022-04-01|\n",
      "|HUFD40665|Truyền Hình|CCEDDC333614|         1457|2022-04-01|\n",
      "|HNH572635|Truyền Hình|B068E6A1C5F6|         2318|2022-04-01|\n",
      "|HND141717|Truyền Hình|08674EE8D2C2|         1452|2022-04-01|\n",
      "|HNH743103|Truyền Hình|402343C25D7D|          251|2022-04-01|\n",
      "|HNH893773|Truyền Hình|B84DEE76D3B8|          924|2022-04-01|\n",
      "|HND083642|Truyền Hình|B84DEE849A0F|         1444|2022-04-01|\n",
      "|DNFD74404|Truyền Hình|90324BB44C39|          691|2022-04-01|\n",
      "|DTFD21200|Truyền Hình|B84DEED27709|         1436|2022-04-01|\n",
      "|LDFD05747|Truyền Hình|0C96E6C95E53|         1434|2022-04-01|\n",
      "|HNH063566|Truyền Hình|B84DEEDD1C85|          687|2022-04-01|\n",
      "|HNH866786|Truyền Hình|10394E2790A5|          248|2022-04-01|\n",
      "|NBAAA1128|Truyền Hình|10394E47C1AF|          247|2022-04-01|\n",
      "|HNH960439|Truyền Hình|B84DEED34371|          683|2022-04-01|\n",
      "|HNJ035736|Truyền Hình|CCD4A1FA86A5|          246|2022-04-01|\n",
      "|NTFD93673|Truyền Hình|B84DEEEF4763|         2288|2022-04-01|\n",
      "|HNJ063267|Truyền Hình|10394E172CA7|         2282|2022-04-01|\n",
      "|HNH790383|Truyền Hình|4CEBBD53378B|          906|2022-04-01|\n",
      "|THFD12466|Truyền Hình|5CEA1D893E1C|          242|2022-04-01|\n",
      "|HNH566080|Truyền Hình|802BF9E0DDC0|          242|2022-04-01|\n",
      "+---------+-----------+------------+-------------+----------+\n",
      "only showing top 20 rows\n",
      "\n"
     ]
    }
   ],
   "source": [
    "df.show()"
   ]
  },
  {
   "cell_type": "code",
   "execution_count": 26,
   "id": "3fe39996",
   "metadata": {},
   "outputs": [],
   "source": [
    "df = df.select(\"Contract\", \"Type\", \"TotalDuration\", \"Date\")"
   ]
  },
  {
   "cell_type": "code",
   "execution_count": 27,
   "id": "1510a3ff",
   "metadata": {},
   "outputs": [
    {
     "name": "stdout",
     "output_type": "stream",
     "text": [
      "+---------+-----------+----------+-------------+\n",
      "| Contract|       Type|      Date|TotalDuration|\n",
      "+---------+-----------+----------+-------------+\n",
      "|HNJ141458|Truyền Hình|2022-04-01|        47349|\n",
      "|SGJ147370|Truyền Hình|2022-04-01|        83331|\n",
      "|HNFD80728|Truyền Hình|2022-04-01|        91636|\n",
      "|SGH574803|Truyền Hình|2022-04-01|       113492|\n",
      "|NTFD92901|Truyền Hình|2022-04-01|        18944|\n",
      "|LDD004076|Phim truyen|2022-04-01|        35454|\n",
      "|HNJ051819|Phim truyen|2022-04-01|         6102|\n",
      "|AGFD54302|Truyền Hình|2022-04-01|        11860|\n",
      "|SGH919014|Truyền Hình|2022-04-01|        55429|\n",
      "|NTFD63152|Truyền Hình|2022-04-01|        18886|\n",
      "|HNH025464|Phim truyen|2022-04-01|        11888|\n",
      "|SGH209300|Truyền Hình|2022-04-01|        25527|\n",
      "|NND000787|Truyền Hình|2022-04-01|          175|\n",
      "|VTFD15187|Phim truyen|2022-04-01|        35625|\n",
      "|CBFD05588|Truyền Hình|2022-04-01|        62005|\n",
      "|HTFD01984|Truyền Hình|2022-04-01|        81976|\n",
      "|GLD014406|Truyền Hình|2022-04-01|        81937|\n",
      "|DNAAA1260|Truyền Hình|2022-04-01|        18791|\n",
      "|HNAAA7079|Truyền Hình|2022-04-01|        23953|\n",
      "|SGJ047187|Truyền Hình|2022-04-01|        81521|\n",
      "+---------+-----------+----------+-------------+\n",
      "only showing top 20 rows\n",
      "\n"
     ]
    }
   ],
   "source": [
    "df.groupBy(\"Contract\", \"Type\", \"Date\").agg(sum(\"TotalDuration\").alias(\"TotalDuration\")).show()"
   ]
  },
  {
   "cell_type": "code",
   "execution_count": 28,
   "id": "eab05d80",
   "metadata": {},
   "outputs": [],
   "source": [
    "df = df.groupBy(\"Contract\", \"Type\", \"Date\").agg(sum(\"TotalDuration\").alias(\"TotalDuration\"))"
   ]
  },
  {
   "cell_type": "code",
   "execution_count": 29,
   "id": "2b803a97",
   "metadata": {},
   "outputs": [
    {
     "data": {
      "text/plain": [
       "1483421"
      ]
     },
     "execution_count": 29,
     "metadata": {},
     "output_type": "execute_result"
    }
   ],
   "source": [
    "df.count()"
   ]
  },
  {
   "cell_type": "markdown",
   "id": "c848a355",
   "metadata": {},
   "source": [
    "<b>Program</b>"
   ]
  },
  {
   "cell_type": "code",
   "execution_count": 30,
   "id": "2d2679ce",
   "metadata": {},
   "outputs": [],
   "source": [
    "import findspark\n",
    "\n",
    "findspark.init()"
   ]
  },
  {
   "cell_type": "code",
   "execution_count": 31,
   "id": "3a59da65",
   "metadata": {},
   "outputs": [],
   "source": [
    "from pyspark.sql import SparkSession\n",
    "from pyspark.sql.functions import *\n",
    "from pyspark.sql.types import *\n",
    "import pandas as pd\n",
    "import pyodbc"
   ]
  },
  {
   "cell_type": "code",
   "execution_count": 32,
   "id": "12d8934b",
   "metadata": {},
   "outputs": [],
   "source": [
    "spark = SparkSession.builder.getOrCreate()"
   ]
  },
  {
   "cell_type": "code",
   "execution_count": 33,
   "id": "19e91d3c",
   "metadata": {},
   "outputs": [],
   "source": [
    "def process_log_data(path, file_name):\n",
    "    df = spark.read.json(path + file_name)\n",
    "\n",
    "    df = df.select(\"_source.AppName\", \"_source.Contract\", \"_source.Mac\", \"_source.TotalDuration\")\n",
    "\n",
    "    df = df.withColumn('Type', when((col(\"AppName\") == 'CHANNEL') | (col(\"AppName\") =='DSHD') | (col(\"AppName\") =='KPLUS') | (col(\"AppName\") =='KPlus'), \"Truyền Hình\")\n",
    "          .when((col(\"AppName\") == 'VOD') | (col(\"AppName\") == 'FIMS_RES') | (col(\"AppName\") =='BHD_RES') | \n",
    "                 (col(\"AppName\") =='VOD_RES') | (col(\"AppName\") =='FIMS') | (col(\"AppName\") =='BHD') | (col(\"AppName\") =='DANET'), \"Phim Truyện\")\n",
    "          .when((col(\"AppName\") == 'RELAX'), \"Giải Trí\")\n",
    "          .when((col(\"AppName\") == 'CHILD'), \"Thiếu Nhi\")\n",
    "          .when((col(\"AppName\") == 'SPORT'), \"Thể Thao\")\n",
    "          .otherwise(\"Error\"))\n",
    "\n",
    "    df = df.select(\"Contract\", \"Type\", \"TotalDuration\")\n",
    "    df = df.filter(df.Type != \"Error\")\n",
    "    df = df.groupBy(\"Contract\", \"Type\").agg(sum(\"TotalDuration\").alias(\"TotalDuration\"))\n",
    "    df = df.groupBy(\"Contract\").pivot(\"Type\").sum(\"TotalDuration\")\n",
    "    \n",
    "    return df"
   ]
  },
  {
   "cell_type": "code",
   "execution_count": 36,
   "id": "2fd871a5",
   "metadata": {},
   "outputs": [],
   "source": [
    "def main_task():\n",
    "    path = \"D:\\\\Dataset\\\\log_content\\\\\"\n",
    "    file_name = \"20220401.json\"\n",
    "    \n",
    "    df = process_log_data(path, file_name)\n",
    "\n",
    "    for i in range(2, 31):\n",
    "        if (i < 10):\n",
    "            file_name = \"2022040{}.json\".format(i)\n",
    "        else:\n",
    "            file_name = \"202204{}.json\".format(i)\n",
    "\n",
    "        df_temp = process_log_data(path, file_name)\n",
    "        df = df.union(df_temp)\n",
    "    \n",
    "    df = df.groupBy(\"Contract\").sum()\n",
    "    \n",
    "    # Save data\n",
    "    df.repartition(1).write.csv('./DF_clean', header=True)\n",
    "    return df"
   ]
  },
  {
   "cell_type": "code",
   "execution_count": 37,
   "id": "ddd23b76",
   "metadata": {},
   "outputs": [],
   "source": [
    "df = main_task()\n",
    "# df = df.cache()"
   ]
  },
  {
   "cell_type": "code",
   "execution_count": 38,
   "id": "36c18127",
   "metadata": {},
   "outputs": [
    {
     "name": "stdout",
     "output_type": "stream",
     "text": [
      "+---------+-------------+----------------+--------------+-------------+----------------+\n",
      "| Contract|sum(Giải Trí)|sum(Phim Truyện)|sum(Thiếu Nhi)|sum(Thể Thao)|sum(Truyền Hình)|\n",
      "+---------+-------------+----------------+--------------+-------------+----------------+\n",
      "|AGAAA0848|            0|               0|             0|            0|           12141|\n",
      "|AGAAA2588|            0|               0|             0|            0|         1078595|\n",
      "|AGD003807|            0|          153369|           164|            0|            4352|\n",
      "|AGD004253|            0|               0|             0|            0|          264972|\n",
      "|AGD008179|        13225|          135699|             0|            0|          115222|\n",
      "|AGD011212|            0|            3799|             0|            0|          308980|\n",
      "|AGD022636|           35|               0|             0|            0|           26553|\n",
      "|AGD026510|            0|               0|             0|            0|          676380|\n",
      "|AGD029035|            0|            9345|             0|            0|          822316|\n",
      "|AGFD02813|            0|           98056|             0|            0|          386668|\n",
      "|AGFD03462|            0|               0|           668|            0|          273718|\n",
      "|AGFD04563|            0|               0|             0|            0|          272548|\n",
      "|AGFD05635|            0|               0|             0|            0|          194890|\n",
      "|AGFD08311|            0|               0|             0|            0|         1628760|\n",
      "|AGFD08541|            0|               0|             0|            0|           13800|\n",
      "|AGFD08980|            0|               0|             0|            0|         1987069|\n",
      "|AGFD09914|            0|               0|             0|            0|          935337|\n",
      "|AGFD11441|            0|           43048|             0|            0|           15576|\n",
      "|AGFD12008|            0|               0|             0|            0|          687868|\n",
      "|AGFD13066|           19|               0|             0|            0|          112478|\n",
      "+---------+-------------+----------------+--------------+-------------+----------------+\n",
      "only showing top 20 rows\n",
      "\n"
     ]
    }
   ],
   "source": [
    "df.na.fill(0).show()"
   ]
  },
  {
   "cell_type": "code",
   "execution_count": 8,
   "id": "b7bbb12d",
   "metadata": {},
   "outputs": [],
   "source": [
    "df = spark.read.csv(\"./DF_clean/*.csv\", header=True)"
   ]
  },
  {
   "cell_type": "code",
   "execution_count": 9,
   "id": "a9f78183",
   "metadata": {},
   "outputs": [
    {
     "name": "stdout",
     "output_type": "stream",
     "text": [
      "+---------+-------------+----------------+--------------+-------------+----------------+\n",
      "| Contract|sum(Giải Trí)|sum(Phim Truyện)|sum(Thiếu Nhi)|sum(Thể Thao)|sum(Truyền Hình)|\n",
      "+---------+-------------+----------------+--------------+-------------+----------------+\n",
      "|AGAAA0848|         null|            null|          null|         null|           12141|\n",
      "|AGAAA2588|         null|            null|          null|         null|         1078595|\n",
      "|AGD003807|         null|          153369|           164|         null|            4352|\n",
      "|AGD004253|         null|            null|          null|         null|          264972|\n",
      "|AGD008179|        13225|          135699|          null|         null|          115222|\n",
      "|AGD011212|         null|            3799|          null|         null|          308980|\n",
      "|AGD022636|           35|            null|          null|         null|           26553|\n",
      "|AGD026510|         null|            null|          null|         null|          676380|\n",
      "|AGD029035|         null|            9345|          null|         null|          822316|\n",
      "|AGFD02813|         null|           98056|          null|         null|          386668|\n",
      "|AGFD03462|         null|            null|           668|         null|          273718|\n",
      "|AGFD04563|         null|            null|          null|         null|          272548|\n",
      "|AGFD05635|         null|            null|          null|         null|          194890|\n",
      "|AGFD08311|         null|            null|          null|         null|         1628760|\n",
      "|AGFD08541|         null|            null|          null|         null|           13800|\n",
      "|AGFD08980|         null|            null|          null|         null|         1987069|\n",
      "|AGFD09914|         null|            null|          null|         null|          935337|\n",
      "|AGFD11441|         null|           43048|          null|         null|           15576|\n",
      "|AGFD12008|         null|            null|          null|         null|          687868|\n",
      "|AGFD13066|           19|            null|          null|         null|          112478|\n",
      "+---------+-------------+----------------+--------------+-------------+----------------+\n",
      "only showing top 20 rows\n",
      "\n"
     ]
    }
   ],
   "source": [
    "df.show()"
   ]
  },
  {
   "cell_type": "code",
   "execution_count": null,
   "id": "dd5bae2f",
   "metadata": {},
   "outputs": [],
   "source": []
  }
 ],
 "metadata": {
  "kernelspec": {
   "display_name": "Python 3 (ipykernel)",
   "language": "python",
   "name": "python3"
  },
  "language_info": {
   "codemirror_mode": {
    "name": "ipython",
    "version": 3
   },
   "file_extension": ".py",
   "mimetype": "text/x-python",
   "name": "python",
   "nbconvert_exporter": "python",
   "pygments_lexer": "ipython3",
   "version": "3.10.9"
  }
 },
 "nbformat": 4,
 "nbformat_minor": 5
}
