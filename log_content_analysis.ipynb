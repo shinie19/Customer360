{
 "cells": [
  {
   "cell_type": "code",
   "execution_count": 1,
   "id": "5d1ba562",
   "metadata": {},
   "outputs": [],
   "source": [
    "import findspark\n",
    "\n",
    "findspark.init()"
   ]
  },
  {
   "cell_type": "code",
   "execution_count": 2,
   "id": "d6a5c646",
   "metadata": {},
   "outputs": [],
   "source": [
    "from pyspark.sql import SparkSession\n",
    "from pyspark.sql.functions import *\n",
    "from pyspark.sql.types import *\n",
    "import pandas as pd\n",
    "import numpy as np\n",
    "from pyspark.sql.window import Window"
   ]
  },
  {
   "cell_type": "code",
   "execution_count": 3,
   "id": "b7999f3c",
   "metadata": {},
   "outputs": [],
   "source": [
    "spark = SparkSession.builder.getOrCreate()"
   ]
  },
  {
   "cell_type": "code",
   "execution_count": 4,
   "id": "4fc919a3",
   "metadata": {},
   "outputs": [],
   "source": [
    "df = spark.read.csv(\"./Clean_Data/cleaned_data.csv\", header=True)"
   ]
  },
  {
   "cell_type": "code",
   "execution_count": 5,
   "id": "c21e2913",
   "metadata": {},
   "outputs": [
    {
     "name": "stdout",
     "output_type": "stream",
     "text": [
      "+---------+-------------+----------------+--------------+-------------+----------------+\n",
      "| Contract|sum(Giải Trí)|sum(Phim Truyện)|sum(Thiếu Nhi)|sum(Thể Thao)|sum(Truyền Hình)|\n",
      "+---------+-------------+----------------+--------------+-------------+----------------+\n",
      "|AGAAA0848|         null|            null|          null|         null|           12141|\n",
      "|AGAAA2588|         null|            null|          null|         null|         1078595|\n",
      "|AGD003807|         null|          153369|           164|         null|            4352|\n",
      "|AGD004253|         null|            null|          null|         null|          264972|\n",
      "|AGD008179|        13225|          135699|          null|         null|          115222|\n",
      "|AGD011212|         null|            3799|          null|         null|          308980|\n",
      "|AGD022636|           35|            null|          null|         null|           26553|\n",
      "|AGD026510|         null|            null|          null|         null|          676380|\n",
      "|AGD029035|         null|            9345|          null|         null|          822316|\n",
      "|AGFD02813|         null|           98056|          null|         null|          386668|\n",
      "|AGFD03462|         null|            null|           668|         null|          273718|\n",
      "|AGFD04563|         null|            null|          null|         null|          272548|\n",
      "|AGFD05635|         null|            null|          null|         null|          194890|\n",
      "|AGFD08311|         null|            null|          null|         null|         1628760|\n",
      "|AGFD08541|         null|            null|          null|         null|           13800|\n",
      "|AGFD08980|         null|            null|          null|         null|         1987069|\n",
      "|AGFD09914|         null|            null|          null|         null|          935337|\n",
      "|AGFD11441|         null|           43048|          null|         null|           15576|\n",
      "|AGFD12008|         null|            null|          null|         null|          687868|\n",
      "|AGFD13066|           19|            null|          null|         null|          112478|\n",
      "+---------+-------------+----------------+--------------+-------------+----------------+\n",
      "only showing top 20 rows\n",
      "\n"
     ]
    }
   ],
   "source": [
    "df.show()"
   ]
  },
  {
   "cell_type": "code",
   "execution_count": 6,
   "id": "9e3464ae",
   "metadata": {},
   "outputs": [],
   "source": [
    "df = df.withColumnRenamed('sum(Giải Trí)', 'RelaxDuration') \\\n",
    ".withColumnRenamed('sum(Phim Truyện)', 'MovieDuration') \\\n",
    ".withColumnRenamed('sum(Thiếu Nhi)', 'ChildDuration') \\\n",
    ".withColumnRenamed('sum(Thể Thao)', 'SportDuration') \\\n",
    ".withColumnRenamed('sum(Truyền Hình)', 'TVDuration')"
   ]
  },
  {
   "cell_type": "code",
   "execution_count": 7,
   "id": "5810dc6b",
   "metadata": {},
   "outputs": [
    {
     "name": "stdout",
     "output_type": "stream",
     "text": [
      "+---------+-------------+-------------+-------------+-------------+----------+\n",
      "| Contract|RelaxDuration|MovieDuration|ChildDuration|SportDuration|TVDuration|\n",
      "+---------+-------------+-------------+-------------+-------------+----------+\n",
      "|AGAAA0848|         null|         null|         null|         null|     12141|\n",
      "|AGAAA2588|         null|         null|         null|         null|   1078595|\n",
      "|AGD003807|         null|       153369|          164|         null|      4352|\n",
      "|AGD004253|         null|         null|         null|         null|    264972|\n",
      "|AGD008179|        13225|       135699|         null|         null|    115222|\n",
      "|AGD011212|         null|         3799|         null|         null|    308980|\n",
      "|AGD022636|           35|         null|         null|         null|     26553|\n",
      "|AGD026510|         null|         null|         null|         null|    676380|\n",
      "|AGD029035|         null|         9345|         null|         null|    822316|\n",
      "|AGFD02813|         null|        98056|         null|         null|    386668|\n",
      "|AGFD03462|         null|         null|          668|         null|    273718|\n",
      "|AGFD04563|         null|         null|         null|         null|    272548|\n",
      "|AGFD05635|         null|         null|         null|         null|    194890|\n",
      "|AGFD08311|         null|         null|         null|         null|   1628760|\n",
      "|AGFD08541|         null|         null|         null|         null|     13800|\n",
      "|AGFD08980|         null|         null|         null|         null|   1987069|\n",
      "|AGFD09914|         null|         null|         null|         null|    935337|\n",
      "|AGFD11441|         null|        43048|         null|         null|     15576|\n",
      "|AGFD12008|         null|         null|         null|         null|    687868|\n",
      "|AGFD13066|           19|         null|         null|         null|    112478|\n",
      "+---------+-------------+-------------+-------------+-------------+----------+\n",
      "only showing top 20 rows\n",
      "\n"
     ]
    }
   ],
   "source": [
    "df.show()"
   ]
  },
  {
   "cell_type": "code",
   "execution_count": 8,
   "id": "936e7221",
   "metadata": {},
   "outputs": [],
   "source": [
    "def unpivot_data(df):\n",
    "    a = df.select('Contract', 'RelaxDuration').withColumn('Category', lit('Relax')).withColumnRenamed('RelaxDuration', 'TotalDuration')\n",
    "    b = df.select('Contract', 'MovieDuration').withColumn('Category', lit('Movie')).withColumnRenamed('MovieDuration', 'TotalDuration')\n",
    "    c = df.select('Contract', 'ChildDuration').withColumn('Category', lit('Child')).withColumnRenamed('ChildDuration', 'TotalDuration')\n",
    "    d = df.select('Contract', 'SportDuration').withColumn('Category', lit('Sport')).withColumnRenamed('SportDuration', 'TotalDuration')\n",
    "    e = df.select('Contract', 'TVDuration').withColumn('Category', lit('TV')).withColumnRenamed('TVDuration', 'TotalDuration')\n",
    "    \n",
    "    t = a.union(b).union(c).union(d).union(e)\n",
    "    t = t.withColumn('TotalDuration', t.TotalDuration.cast(IntegerType()))\n",
    "    return t"
   ]
  },
  {
   "cell_type": "code",
   "execution_count": 9,
   "id": "3c8f371b",
   "metadata": {},
   "outputs": [],
   "source": [
    "def calc_most_watch(data_unpivot):\n",
    "    windowSpec  = Window.partitionBy(\"Contract\").orderBy(desc(\"TotalDuration\"))\n",
    "    t = data_unpivot.withColumn(\"Rank\",rank().over(windowSpec))\n",
    "    t = t.filter(col('Rank') == 1)  \n",
    "    t = t.select('Contract', 'Category').withColumnRenamed('Category', 'Most_Watch')\n",
    "    return t"
   ]
  },
  {
   "cell_type": "code",
   "execution_count": 10,
   "id": "da77ed57",
   "metadata": {},
   "outputs": [],
   "source": [
    "data_unpivot = unpivot_data(df)\n",
    "most_watch = calc_most_watch(data_unpivot)"
   ]
  },
  {
   "cell_type": "code",
   "execution_count": 11,
   "id": "acae7f53",
   "metadata": {},
   "outputs": [],
   "source": [
    "df = df.join(most_watch, \"Contract\", \"inner\")"
   ]
  },
  {
   "cell_type": "code",
   "execution_count": 12,
   "id": "44f7c346",
   "metadata": {},
   "outputs": [
    {
     "name": "stdout",
     "output_type": "stream",
     "text": [
      "+--------------+-------------+-------------+-------------+-------------+----------+----------+\n",
      "|      Contract|RelaxDuration|MovieDuration|ChildDuration|SportDuration|TVDuration|Most_Watch|\n",
      "+--------------+-------------+-------------+-------------+-------------+----------+----------+\n",
      "|113.182.209.48|           89|         null|         null|         null|        63|     Relax|\n",
      "|14.182.110.125|           92|         null|         null|         null|       404|        TV|\n",
      "|     AGAAA0338|         null|         null|         null|         null|    278633|        TV|\n",
      "|     AGAAA0342|          204|         null|         null|         null|    117788|        TV|\n",
      "|     AGAAA0346|         null|         null|         null|         null|   2056249|        TV|\n",
      "|     AGAAA0353|         null|         1665|         null|         null|     25982|        TV|\n",
      "|     AGAAA0372|         null|         null|         null|         null|     13123|        TV|\n",
      "|     AGAAA0391|          373|          129|         null|         null|    158931|        TV|\n",
      "|     AGAAA0452|         null|         null|         null|         null|     29921|        TV|\n",
      "|     AGAAA0504|           97|           46|         null|         null|     21313|        TV|\n",
      "|     AGAAA0544|         null|         null|         null|         null|    155603|        TV|\n",
      "|     AGAAA0550|         null|         null|         null|         null|   2215875|        TV|\n",
      "|     AGAAA0555|         null|         null|         null|         null|    348001|        TV|\n",
      "|     AGAAA0576|         null|          677|         null|         null|    759375|        TV|\n",
      "|     AGAAA0593|         null|         null|         null|         null|      1038|        TV|\n",
      "|     AGAAA0608|         null|         null|         null|         null|      2129|        TV|\n",
      "|     AGAAA0613|           26|         null|         null|         null|      9377|        TV|\n",
      "|     AGAAA0638|         null|         null|         null|         null|    227016|        TV|\n",
      "|     AGAAA0663|         null|         null|         null|         null|     89001|        TV|\n",
      "|     AGAAA0692|         null|         null|         null|         null|    107057|        TV|\n",
      "+--------------+-------------+-------------+-------------+-------------+----------+----------+\n",
      "only showing top 20 rows\n",
      "\n"
     ]
    }
   ],
   "source": [
    "df.show()"
   ]
  },
  {
   "cell_type": "code",
   "execution_count": 13,
   "id": "fb577f34",
   "metadata": {},
   "outputs": [],
   "source": [
    "def calc_taste(df):\n",
    "    calculate_taste = df.withColumn('RelaxDuration',when(df.RelaxDuration.isNotNull(),'Relax').otherwise(df.RelaxDuration))\n",
    "    calculate_taste = calculate_taste.withColumn('MovieDuration',when(calculate_taste.MovieDuration.isNotNull(),'Movie').otherwise(calculate_taste.MovieDuration))\n",
    "    calculate_taste = calculate_taste.withColumn('ChildDuration',when(calculate_taste.ChildDuration.isNotNull(),'Child').otherwise(calculate_taste.ChildDuration))\n",
    "    calculate_taste = calculate_taste.withColumn('SportDuration',when(calculate_taste.SportDuration.isNotNull(),'Sport').otherwise(calculate_taste.SportDuration))\n",
    "    calculate_taste = calculate_taste.withColumn('TVDuration',when(calculate_taste.TVDuration.isNotNull(),'TV').otherwise(calculate_taste.TVDuration))\n",
    "    calculate_taste = calculate_taste.withColumn('Taste', concat_ws('-', *[c for c in calculate_taste.columns if (c!='Contract' and c!='Most_Watch')]))\n",
    "    calculate_taste = calculate_taste.select('Contract','Taste')\n",
    "    return calculate_taste"
   ]
  },
  {
   "cell_type": "code",
   "execution_count": 14,
   "id": "50de456d",
   "metadata": {},
   "outputs": [],
   "source": [
    "calculate_taste = calc_taste(df)"
   ]
  },
  {
   "cell_type": "code",
   "execution_count": 15,
   "id": "2e52ca7e",
   "metadata": {},
   "outputs": [],
   "source": [
    "df1 = df.join(calculate_taste, \"Contract\", \"inner\")"
   ]
  },
  {
   "cell_type": "code",
   "execution_count": 16,
   "id": "cea05502",
   "metadata": {},
   "outputs": [],
   "source": [
    "df1 = df1.withColumn('RelaxDuration', df1.RelaxDuration.cast(IntegerType())) \\\n",
    "    .withColumn('MovieDuration', df1.MovieDuration.cast(IntegerType())) \\\n",
    "    .withColumn('ChildDuration', df1.ChildDuration.cast(IntegerType())) \\\n",
    "    .withColumn('SportDuration', df1.SportDuration.cast(IntegerType())) \\\n",
    "    .withColumn('TVDuration', df1.TVDuration.cast(IntegerType()))"
   ]
  },
  {
   "cell_type": "code",
   "execution_count": 17,
   "id": "fd8a3152",
   "metadata": {},
   "outputs": [
    {
     "name": "stdout",
     "output_type": "stream",
     "text": [
      "root\n",
      " |-- Contract: string (nullable = true)\n",
      " |-- RelaxDuration: integer (nullable = true)\n",
      " |-- MovieDuration: integer (nullable = true)\n",
      " |-- ChildDuration: integer (nullable = true)\n",
      " |-- SportDuration: integer (nullable = true)\n",
      " |-- TVDuration: integer (nullable = true)\n",
      " |-- Most_Watch: string (nullable = false)\n",
      " |-- Taste: string (nullable = false)\n",
      "\n"
     ]
    }
   ],
   "source": [
    "df1.printSchema()"
   ]
  },
  {
   "cell_type": "code",
   "execution_count": 18,
   "id": "04e80876",
   "metadata": {},
   "outputs": [
    {
     "name": "stdout",
     "output_type": "stream",
     "text": [
      "+--------------+-------------+-------------+-------------+-------------+----------+----------+--------------+\n",
      "|      Contract|RelaxDuration|MovieDuration|ChildDuration|SportDuration|TVDuration|Most_Watch|         Taste|\n",
      "+--------------+-------------+-------------+-------------+-------------+----------+----------+--------------+\n",
      "|113.182.209.48|           89|         null|         null|         null|        63|     Relax|      Relax-TV|\n",
      "|14.182.110.125|           92|         null|         null|         null|       404|        TV|      Relax-TV|\n",
      "|     AGAAA0338|         null|         null|         null|         null|    278633|        TV|            TV|\n",
      "|     AGAAA0342|          204|         null|         null|         null|    117788|        TV|      Relax-TV|\n",
      "|     AGAAA0346|         null|         null|         null|         null|   2056249|        TV|            TV|\n",
      "|     AGAAA0353|         null|         1665|         null|         null|     25982|        TV|      Movie-TV|\n",
      "|     AGAAA0372|         null|         null|         null|         null|     13123|        TV|            TV|\n",
      "|     AGAAA0391|          373|          129|         null|         null|    158931|        TV|Relax-Movie-TV|\n",
      "|     AGAAA0452|         null|         null|         null|         null|     29921|        TV|            TV|\n",
      "|     AGAAA0504|           97|           46|         null|         null|     21313|        TV|Relax-Movie-TV|\n",
      "|     AGAAA0544|         null|         null|         null|         null|    155603|        TV|            TV|\n",
      "|     AGAAA0550|         null|         null|         null|         null|   2215875|        TV|            TV|\n",
      "|     AGAAA0555|         null|         null|         null|         null|    348001|        TV|            TV|\n",
      "|     AGAAA0576|         null|          677|         null|         null|    759375|        TV|      Movie-TV|\n",
      "|     AGAAA0593|         null|         null|         null|         null|      1038|        TV|            TV|\n",
      "|     AGAAA0608|         null|         null|         null|         null|      2129|        TV|            TV|\n",
      "|     AGAAA0613|           26|         null|         null|         null|      9377|        TV|      Relax-TV|\n",
      "|     AGAAA0638|         null|         null|         null|         null|    227016|        TV|            TV|\n",
      "|     AGAAA0663|         null|         null|         null|         null|     89001|        TV|            TV|\n",
      "|     AGAAA0692|         null|         null|         null|         null|    107057|        TV|            TV|\n",
      "+--------------+-------------+-------------+-------------+-------------+----------+----------+--------------+\n",
      "only showing top 20 rows\n",
      "\n"
     ]
    }
   ],
   "source": [
    "df1.show()"
   ]
  },
  {
   "cell_type": "code",
   "execution_count": 19,
   "id": "214739a3",
   "metadata": {},
   "outputs": [],
   "source": [
    "def calc_type(df):\n",
    "    df = df.na.fill(value=0)\n",
    "    \n",
    "    # avgs = {\n",
    "    #     c: (df.select(avg(c)).collect())[0][0] for c in df.columns if ((c != 'Contract') and (c != 'Most_Watch') and (c != 'Taste'))\n",
    "    # }\n",
    "\n",
    "    df = df.withColumn('TotalDuration', col('RelaxDuration') + col('MovieDuration') + col('ChildDuration') + col('SportDuration') + col('TVDuration'))\n",
    "\n",
    "    bounds = {\n",
    "        'TotalDuration': dict(\n",
    "            zip([\"q1\", \"q3\"], df.approxQuantile('TotalDuration', [0.25, 0.75], 0))\n",
    "        )\n",
    "    }\n",
    "\n",
    "    df = df.withColumn(\"Type\", when(df.TotalDuration < bounds['TotalDuration']['q1'], \"Low\")\n",
    "                                 .when(df.TotalDuration > bounds['TotalDuration']['q3'], \"High\")\n",
    "                                 .otherwise(\"Medium\"))\n",
    "    \n",
    "    # df = df.withColumn('Type', when((df.Most_Watch == \"Relax\") & (df.RelaxDuration >= avgs['RelaxDuration']), \"Above average\")\n",
    "    #                      .when((df.Most_Watch == \"Relax\") & (df.RelaxDuration < avgs['RelaxDuration']), \"Below average\")\n",
    "    #                      .when((df.Most_Watch == \"Movie\") & (df.MovieDuration >= avgs['MovieDuration']), \"Above average\")\n",
    "    #                      .when((df.Most_Watch == \"Movie\") & (df.MovieDuration < avgs['RelaxDuration']), \"Below average\")\n",
    "    #                      .when((df.Most_Watch == \"Child\") & (df.ChildDuration >= avgs['ChildDuration']), \"Above average\")\n",
    "    #                      .when((df.Most_Watch == \"Child\") & (df.ChildDuration < avgs['ChildDuration']), \"Below average\")\n",
    "    #                      .when((df.Most_Watch == \"Sport\") & (df.SportDuration >= avgs['SportDuration']), \"Above average\")\n",
    "    #                      .when((df.Most_Watch == \"Sport\") & (df.SportDuration < avgs['SportDuration']), \"Below average\")\n",
    "    #                      .when((df.Most_Watch == \"TV\") & (df.TVDuration >= avgs['TVDuration']), \"Above average\")\n",
    "    #                      .when((df.Most_Watch == \"TV\") & (df.TVDuration < avgs['TVDuration']), \"Below average\")\n",
    "    #                     )\n",
    "\n",
    "\n",
    "    return df.select('Contract', 'RelaxDuration', 'MovieDuration', 'ChildDuration', 'SportDuration', 'TVDuration', 'TotalDuration', 'Most_Watch', 'Taste', 'Type')"
   ]
  },
  {
   "cell_type": "code",
   "execution_count": 20,
   "id": "d826256d",
   "metadata": {},
   "outputs": [],
   "source": [
    "df2 = calc_type(df1)"
   ]
  },
  {
   "cell_type": "code",
   "execution_count": 21,
   "id": "5044ce26",
   "metadata": {},
   "outputs": [
    {
     "name": "stdout",
     "output_type": "stream",
     "text": [
      "+--------------+-------------+-------------+-------------+-------------+----------+-------------+----------+--------------+------+\n",
      "|      Contract|RelaxDuration|MovieDuration|ChildDuration|SportDuration|TVDuration|TotalDuration|Most_Watch|         Taste|  Type|\n",
      "+--------------+-------------+-------------+-------------+-------------+----------+-------------+----------+--------------+------+\n",
      "|113.182.209.48|           89|            0|            0|            0|        63|          152|     Relax|      Relax-TV|   Low|\n",
      "|14.182.110.125|           92|            0|            0|            0|       404|          496|        TV|      Relax-TV|   Low|\n",
      "|     AGAAA0338|            0|            0|            0|            0|    278633|       278633|        TV|            TV|Medium|\n",
      "|     AGAAA0342|          204|            0|            0|            0|    117788|       117992|        TV|      Relax-TV|Medium|\n",
      "|     AGAAA0346|            0|            0|            0|            0|   2056249|      2056249|        TV|            TV|  High|\n",
      "|     AGAAA0353|            0|         1665|            0|            0|     25982|        27647|        TV|      Movie-TV|   Low|\n",
      "|     AGAAA0372|            0|            0|            0|            0|     13123|        13123|        TV|            TV|   Low|\n",
      "|     AGAAA0391|          373|          129|            0|            0|    158931|       159433|        TV|Relax-Movie-TV|Medium|\n",
      "|     AGAAA0452|            0|            0|            0|            0|     29921|        29921|        TV|            TV|   Low|\n",
      "|     AGAAA0504|           97|           46|            0|            0|     21313|        21456|        TV|Relax-Movie-TV|   Low|\n",
      "|     AGAAA0544|            0|            0|            0|            0|    155603|       155603|        TV|            TV|Medium|\n",
      "|     AGAAA0550|            0|            0|            0|            0|   2215875|      2215875|        TV|            TV|  High|\n",
      "|     AGAAA0555|            0|            0|            0|            0|    348001|       348001|        TV|            TV|Medium|\n",
      "|     AGAAA0576|            0|          677|            0|            0|    759375|       760052|        TV|      Movie-TV|  High|\n",
      "|     AGAAA0593|            0|            0|            0|            0|      1038|         1038|        TV|            TV|   Low|\n",
      "|     AGAAA0608|            0|            0|            0|            0|      2129|         2129|        TV|            TV|   Low|\n",
      "|     AGAAA0613|           26|            0|            0|            0|      9377|         9403|        TV|      Relax-TV|   Low|\n",
      "|     AGAAA0638|            0|            0|            0|            0|    227016|       227016|        TV|            TV|Medium|\n",
      "|     AGAAA0663|            0|            0|            0|            0|     89001|        89001|        TV|            TV|Medium|\n",
      "|     AGAAA0692|            0|            0|            0|            0|    107057|       107057|        TV|            TV|Medium|\n",
      "+--------------+-------------+-------------+-------------+-------------+----------+-------------+----------+--------------+------+\n",
      "only showing top 20 rows\n",
      "\n"
     ]
    }
   ],
   "source": [
    "df2.show()"
   ]
  },
  {
   "cell_type": "code",
   "execution_count": 22,
   "id": "e182e8ba",
   "metadata": {},
   "outputs": [],
   "source": [
    "def read_all_30_days():\n",
    "    path = \"D:\\\\Dataset\\\\log_content\\\\\"\n",
    "    file_name = \"20220401.json\"\n",
    "\n",
    "    df = spark.read.json(path + file_name)\n",
    "    df = df.select(\"_source.AppName\", \"_source.Contract\", \"_source.Mac\", \"_source.TotalDuration\")\n",
    "    df = df.groupBy(\"Contract\").sum('TotalDuration')\n",
    "\n",
    "    for i in range(2, 31):\n",
    "        if (i < 10):\n",
    "            file_name = \"2022040{}.json\".format(i)\n",
    "        else:\n",
    "            file_name = \"202204{}.json\".format(i)\n",
    "\n",
    "        df_temp = spark.read.json(path + file_name)\n",
    "        df_temp = df_temp.select(\"_source.AppName\", \"_source.Contract\", \"_source.Mac\", \"_source.TotalDuration\")\n",
    "        df_temp = df_temp.groupBy(\"Contract\").sum('TotalDuration')\n",
    "\n",
    "        df = df.union(df_temp)\n",
    "    return df"
   ]
  },
  {
   "cell_type": "code",
   "execution_count": 23,
   "id": "cd7b2844",
   "metadata": {},
   "outputs": [],
   "source": [
    "def calc_activeness():\n",
    "    df = read_all_30_days()\n",
    "    df = df.groupBy(\"Contract\").agg(count(\"*\").alias(\"Activeness\"))\n",
    "    return df"
   ]
  },
  {
   "cell_type": "code",
   "execution_count": 24,
   "id": "1c8b9dfe",
   "metadata": {},
   "outputs": [],
   "source": [
    "activeness_data = calc_activeness()"
   ]
  },
  {
   "cell_type": "code",
   "execution_count": 25,
   "id": "43e50794",
   "metadata": {},
   "outputs": [],
   "source": [
    "df3 = df2.join(activeness_data, 'Contract', 'inner')"
   ]
  },
  {
   "cell_type": "code",
   "execution_count": 26,
   "id": "2cbed8f7",
   "metadata": {},
   "outputs": [
    {
     "name": "stdout",
     "output_type": "stream",
     "text": [
      "+--------------+-------------+-------------+-------------+-------------+----------+-------------+----------+--------------------+------+----------+\n",
      "|      Contract|RelaxDuration|MovieDuration|ChildDuration|SportDuration|TVDuration|TotalDuration|Most_Watch|               Taste|  Type|Activeness|\n",
      "+--------------+-------------+-------------+-------------+-------------+----------+-------------+----------+--------------------+------+----------+\n",
      "|113.182.209.48|           89|            0|            0|            0|        63|          152|     Relax|            Relax-TV|   Low|         1|\n",
      "|14.182.110.125|           92|            0|            0|            0|       404|          496|        TV|            Relax-TV|   Low|         1|\n",
      "|     AGAAA0338|            0|            0|            0|            0|    278633|       278633|        TV|                  TV|Medium|        30|\n",
      "|     AGAAA0342|          204|            0|            0|            0|    117788|       117992|        TV|            Relax-TV|Medium|        12|\n",
      "|     AGAAA0346|            0|            0|            0|            0|   2056249|      2056249|        TV|                  TV|  High|        30|\n",
      "|     AGAAA0353|            0|         1665|            0|            0|     25982|        27647|        TV|            Movie-TV|   Low|        29|\n",
      "|     AGAAA0391|          373|          129|            0|            0|    158931|       159433|        TV|      Relax-Movie-TV|Medium|        11|\n",
      "|     AGAAA0452|            0|            0|            0|            0|     29921|        29921|        TV|                  TV|   Low|        14|\n",
      "|     AGAAA0504|           97|           46|            0|            0|     21313|        21456|        TV|      Relax-Movie-TV|   Low|        28|\n",
      "|     AGAAA0550|            0|            0|            0|            0|   2215875|      2215875|        TV|                  TV|  High|        29|\n",
      "|     AGAAA0593|            0|            0|            0|            0|      1038|         1038|        TV|                  TV|   Low|         3|\n",
      "|     AGAAA0608|            0|            0|            0|            0|      2129|         2129|        TV|                  TV|   Low|         2|\n",
      "|     AGAAA0613|           26|            0|            0|            0|      9377|         9403|        TV|            Relax-TV|   Low|        24|\n",
      "|     AGAAA0638|            0|            0|            0|            0|    227016|       227016|        TV|                  TV|Medium|        30|\n",
      "|     AGAAA0663|            0|            0|            0|            0|     89001|        89001|        TV|                  TV|Medium|        29|\n",
      "|     AGAAA0692|            0|            0|            0|            0|    107057|       107057|        TV|                  TV|Medium|         8|\n",
      "|     AGAAA0693|          482|           33|        10361|            0|    233447|       244323|        TV|Relax-Movie-Child-TV|Medium|        29|\n",
      "|     AGAAA0718|            0|            0|            0|            0|    634586|       634586|        TV|                  TV|  High|        28|\n",
      "|     AGAAA0723|            0|            0|            0|            0|      9279|         9279|        TV|                  TV|   Low|        19|\n",
      "|     AGAAA0729|            0|            0|            0|            0|    161781|       161781|        TV|                  TV|Medium|         3|\n",
      "+--------------+-------------+-------------+-------------+-------------+----------+-------------+----------+--------------------+------+----------+\n",
      "only showing top 20 rows\n",
      "\n"
     ]
    }
   ],
   "source": [
    "df3.show()"
   ]
  },
  {
   "cell_type": "code",
   "execution_count": 26,
   "id": "5701ee1c",
   "metadata": {},
   "outputs": [],
   "source": [
    "def calc_clinginess(df):\n",
    "    df = df.withColumn('Clinginess', when((df.Type == 'Low') & (df.Activeness <= 20), 'Low')\n",
    "                                    .when((df.Type == 'Low') & (df.Activeness > 20), 'Medium')\n",
    "                                    .when((df.Type == 'Medium') & (df.Activeness <= 10), 'Low')\n",
    "                                    .when((df.Type == 'Medium') & (df.Activeness > 10) & (df.Activeness <= 20), 'Medium')\n",
    "                                    .when((df.Type == 'Medium') & (df.Activeness > 20), 'High')\n",
    "                                    .when((df.Type == 'High') & (df.Activeness <= 10), 'Medium')\n",
    "                                    .when((df.Type == 'High') & (df.Activeness > 10), 'High'))\n",
    "\n",
    "    return df"
   ]
  },
  {
   "cell_type": "code",
   "execution_count": 27,
   "id": "95d79355",
   "metadata": {},
   "outputs": [],
   "source": [
    "df4 = calc_clinginess(df3)"
   ]
  },
  {
   "cell_type": "code",
   "execution_count": 29,
   "id": "f4d7419c",
   "metadata": {},
   "outputs": [
    {
     "name": "stdout",
     "output_type": "stream",
     "text": [
      "+--------------+-------------+-------------+-------------+-------------+----------+-------------+----------+--------------------+------+----------+----------+\n",
      "|      Contract|RelaxDuration|MovieDuration|ChildDuration|SportDuration|TVDuration|TotalDuration|Most_Watch|               Taste|  Type|Activeness|Clinginess|\n",
      "+--------------+-------------+-------------+-------------+-------------+----------+-------------+----------+--------------------+------+----------+----------+\n",
      "|113.182.209.48|           89|            0|            0|            0|        63|          152|     Relax|            Relax-TV|   Low|         1|       Low|\n",
      "|14.182.110.125|           92|            0|            0|            0|       404|          496|        TV|            Relax-TV|   Low|         1|       Low|\n",
      "|     AGAAA0338|            0|            0|            0|            0|    278633|       278633|        TV|                  TV|Medium|        30|      High|\n",
      "|     AGAAA0342|          204|            0|            0|            0|    117788|       117992|        TV|            Relax-TV|Medium|        12|    Medium|\n",
      "|     AGAAA0346|            0|            0|            0|            0|   2056249|      2056249|        TV|                  TV|  High|        30|      High|\n",
      "|     AGAAA0353|            0|         1665|            0|            0|     25982|        27647|        TV|            Movie-TV|   Low|        29|    Medium|\n",
      "|     AGAAA0391|          373|          129|            0|            0|    158931|       159433|        TV|      Relax-Movie-TV|Medium|        11|    Medium|\n",
      "|     AGAAA0452|            0|            0|            0|            0|     29921|        29921|        TV|                  TV|   Low|        14|       Low|\n",
      "|     AGAAA0504|           97|           46|            0|            0|     21313|        21456|        TV|      Relax-Movie-TV|   Low|        28|    Medium|\n",
      "|     AGAAA0550|            0|            0|            0|            0|   2215875|      2215875|        TV|                  TV|  High|        29|      High|\n",
      "|     AGAAA0593|            0|            0|            0|            0|      1038|         1038|        TV|                  TV|   Low|         3|       Low|\n",
      "|     AGAAA0608|            0|            0|            0|            0|      2129|         2129|        TV|                  TV|   Low|         2|       Low|\n",
      "|     AGAAA0613|           26|            0|            0|            0|      9377|         9403|        TV|            Relax-TV|   Low|        24|    Medium|\n",
      "|     AGAAA0638|            0|            0|            0|            0|    227016|       227016|        TV|                  TV|Medium|        30|      High|\n",
      "|     AGAAA0663|            0|            0|            0|            0|     89001|        89001|        TV|                  TV|Medium|        29|      High|\n",
      "|     AGAAA0692|            0|            0|            0|            0|    107057|       107057|        TV|                  TV|Medium|         8|       Low|\n",
      "|     AGAAA0693|          482|           33|        10361|            0|    233447|       244323|        TV|Relax-Movie-Child-TV|Medium|        29|      High|\n",
      "|     AGAAA0718|            0|            0|            0|            0|    634586|       634586|        TV|                  TV|  High|        28|      High|\n",
      "|     AGAAA0723|            0|            0|            0|            0|      9279|         9279|        TV|                  TV|   Low|        19|       Low|\n",
      "|     AGAAA0729|            0|            0|            0|            0|    161781|       161781|        TV|                  TV|Medium|         3|       Low|\n",
      "+--------------+-------------+-------------+-------------+-------------+----------+-------------+----------+--------------------+------+----------+----------+\n",
      "only showing top 20 rows\n",
      "\n"
     ]
    }
   ],
   "source": [
    "df4.show()"
   ]
  },
  {
   "cell_type": "code",
   "execution_count": 28,
   "id": "90eb249b",
   "metadata": {},
   "outputs": [],
   "source": [
    "# Save data\n",
    "df4.repartition(1).write.csv('./Final_Data', header=True)"
   ]
  },
  {
   "cell_type": "code",
   "execution_count": null,
   "id": "4d5bcba5",
   "metadata": {},
   "outputs": [],
   "source": []
  }
 ],
 "metadata": {
  "kernelspec": {
   "display_name": "Python 3 (ipykernel)",
   "language": "python",
   "name": "python3"
  },
  "language_info": {
   "codemirror_mode": {
    "name": "ipython",
    "version": 3
   },
   "file_extension": ".py",
   "mimetype": "text/x-python",
   "name": "python",
   "nbconvert_exporter": "python",
   "pygments_lexer": "ipython3",
   "version": "3.10.9"
  }
 },
 "nbformat": 4,
 "nbformat_minor": 5
}
