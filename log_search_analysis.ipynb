{
 "cells": [
  {
   "cell_type": "code",
   "execution_count": 1,
   "id": "4471952d",
   "metadata": {},
   "outputs": [],
   "source": [
    "import findspark\n",
    "\n",
    "findspark.init()"
   ]
  },
  {
   "cell_type": "code",
   "execution_count": 2,
   "id": "1a73046a",
   "metadata": {},
   "outputs": [],
   "source": [
    "from pyspark.sql import SparkSession\n",
    "from pyspark.sql.functions import *\n",
    "from pyspark.sql.types import *\n",
    "import pandas as pd\n",
    "import numpy as np\n",
    "from pyspark.sql.window import Window"
   ]
  },
  {
   "cell_type": "code",
   "execution_count": 3,
   "id": "8da11032",
   "metadata": {},
   "outputs": [],
   "source": [
    "spark = SparkSession.builder.getOrCreate()"
   ]
  },
  {
   "cell_type": "code",
   "execution_count": 4,
   "id": "67cf9239",
   "metadata": {},
   "outputs": [],
   "source": [
    "def read_data():\n",
    "    # List of paths\n",
    "    june_data_paths = []\n",
    "    july_data_paths = []\n",
    "    \n",
    "    for i in range(14):\n",
    "        if (i+1 < 10):\n",
    "            folder_path_6 = 'D:\\\\Dev\\\\DE\\\\Dataset\\\\log_search\\\\2022060{}\\\\*.parquet'.format(i+1)\n",
    "            folder_path_7 = 'D:\\\\Dev\\\\DE\\\\Dataset\\\\log_search\\\\2022070{}\\\\*.parquet'.format(i+1)\n",
    "        else:\n",
    "            folder_path_6 = 'D:\\\\Dev\\\\DE\\\\Dataset\\\\log_search\\\\202206{}\\\\*.parquet'.format(i+1)\n",
    "            folder_path_7 = 'D:\\\\Dev\\\\DE\\\\Dataset\\\\log_search\\\\202207{}\\\\*.parquet'.format(i+1)\n",
    "        june_data_paths.append(folder_path_6)\n",
    "        july_data_paths.append(folder_path_7)\n",
    "\n",
    "    june_df = spark.read.parquet(*june_data_paths)\n",
    "    july_df = spark.read.parquet(*july_data_paths)\n",
    "\n",
    "    return june_df, july_df"
   ]
  },
  {
   "cell_type": "code",
   "execution_count": 5,
   "id": "a9610890",
   "metadata": {},
   "outputs": [],
   "source": [
    "def handle_most_search(june_df, july_df):\n",
    "    # Get user_id and keyword columns\n",
    "    june_df = june_df.select('user_id', 'keyword').filter(june_df.user_id.isNotNull() & june_df.keyword.isNotNull())\n",
    "    july_df = july_df.select('user_id', 'keyword').filter(july_df.user_id.isNotNull() & july_df.keyword.isNotNull())\n",
    "\n",
    "    # Count the number of searching keyword (Times column)\n",
    "    june_df = june_df.groupBy(june_df.user_id, june_df.keyword).agg(count('*').alias('Times'))\n",
    "    july_df = july_df.groupBy(july_df.user_id, july_df.keyword).agg(count('*').alias('Times'))\n",
    "\n",
    "    # Windows function\n",
    "    windowSpec  = Window.partitionBy(\"user_id\").orderBy(col(\"Times\").desc())\n",
    "\n",
    "    # Rank by Times\n",
    "    june_df = june_df.withColumn(\"rank\", rank().over(windowSpec))\n",
    "    july_df = july_df.withColumn(\"rank\", rank().over(windowSpec))\n",
    "\n",
    "    # Filter keywords in top 3\n",
    "    june_df = june_df.filter(col('rank') == 1)\n",
    "    july_df = july_df.filter(col('rank') == 1)\n",
    "    \n",
    "    # Get most_search\n",
    "    june_df = june_df.select('user_id', 'keyword').withColumnRenamed('keyword', 'most_search_june')\n",
    "    july_df = july_df.select('user_id', 'keyword').withColumnRenamed('keyword', 'most_search_july')\n",
    "\n",
    "    # Join 2 Dataframe of 2 months\n",
    "    result = june_df.join(july_df, 'user_id', 'inner')\n",
    "\n",
    "    return result"
   ]
  },
  {
   "attachments": {},
   "cell_type": "markdown",
   "id": "95fb642d",
   "metadata": {},
   "source": [
    "**Main:**"
   ]
  },
  {
   "cell_type": "code",
   "execution_count": 6,
   "id": "239584d1",
   "metadata": {},
   "outputs": [],
   "source": [
    "june_df, july_df = read_data()\n",
    "df = handle_most_search(june_df, july_df)"
   ]
  },
  {
   "cell_type": "code",
   "execution_count": 39,
   "id": "704afe4e",
   "metadata": {},
   "outputs": [],
   "source": [
    "# Save csv\n",
    "\n",
    "# df.repartition(1).write.options(header='True', encoding='UTF-8').csv(\"D:\\\\Sourcecode\\\\test\\\\\", header=True)"
   ]
  },
  {
   "cell_type": "code",
   "execution_count": 7,
   "id": "cddf8682",
   "metadata": {},
   "outputs": [],
   "source": [
    "# Read mapped data\n",
    "df = spark.read.options(header='True').csv(\"D:\\\\Sourcecode\\\\test\\\\*.csv\").limit(1000)"
   ]
  },
  {
   "cell_type": "code",
   "execution_count": 8,
   "id": "d46c79a8",
   "metadata": {},
   "outputs": [
    {
     "name": "stdout",
     "output_type": "stream",
     "text": [
      "+-------+--------------------+---------------+--------------------+--------------+\n",
      "|user_id|    most_search_june|  category_june|    most_search_july| category_july|\n",
      "+-------+--------------------+---------------+--------------------+--------------+\n",
      "|   1396|yêu trong đau thu...| Romantic movie|phim tươi cười ph...|        Comedy|\n",
      "|   2032|    chú vẹt đuôi dài|Animation movie|      THIEN THAN BON|         Other|\n",
      "|   2384|       ngoc lau xuan|        C-Drama|    vẻ đẹp đích thực|Romantic movie|\n",
      "|   2816|định mệnh anh yêu em| Romantic movie|     vân tịch truyện|       C-Drama|\n",
      "|   3361|         tây hành kỷ|   CN Animation|         lộc đỉnh ký|       C-Drama|\n",
      "|   3361|           vuot nguc|   Action movie|         lộc đỉnh ký|       C-Drama|\n",
      "|   3371|                 vtv|             TV|hoang anh gia lai...|         Sport|\n",
      "|   3691| thế giới khủng long|   Action movie|tiếng gọi nơi hoa...|  Action movie|\n",
      "|   3926|người yêu siêu cấ...| Romantic movie|học viện anh hùng...|         Anime|\n",
      "|   4007| tom and jerry tales|        Cartoon|            doraemon|       Cartoon|\n",
      "|   4857|     hồ sơ trinh sát|        C-Drama|     pháp y tầm minh|       C-Drama|\n",
      "|   4908|            doraemon|        Cartoon|               conan|         Anime|\n",
      "|   5187|          Kim Tae Ri|        K-Drama|high school king ...|Romantic movie|\n",
      "|   5748|   lời nguyền ma lai|   Horror movie|chuyen sinh thanh...|         Anime|\n",
      "|   7996|   phàm nhân tu tiên|        C-Drama|           thanh lạc|       C-Drama|\n",
      "|   7996|phàm nhân tu tiên...|        C-Drama|           thanh lạc|       C-Drama|\n",
      "|   8207|               CONAN|          Anime|     TIENG ANH LOP 5|      Learning|\n",
      "|   9576|    THIEN KIM TRO VE|        C-Drama|          dữ quân ca|       C-Drama|\n",
      "|  10270|           kênh vtv1|             TV|kênh truyền hình ...|            TV|\n",
      "|  10414|  bật thầy hoá trang|        C-Drama|ngọt ngào dành ri...|       C-Drama|\n",
      "+-------+--------------------+---------------+--------------------+--------------+\n",
      "only showing top 20 rows\n",
      "\n"
     ]
    }
   ],
   "source": [
    "df.show()"
   ]
  },
  {
   "cell_type": "code",
   "execution_count": 9,
   "id": "a5f95dda",
   "metadata": {},
   "outputs": [],
   "source": [
    "def handle_trending_type(df):\n",
    "    df = df.withColumn('trending_type', when(df.category_june == df.category_july, \"Unchanged\").otherwise(\"Changed\"))\n",
    "\n",
    "    return df"
   ]
  },
  {
   "cell_type": "code",
   "execution_count": 10,
   "id": "a86ea1b4",
   "metadata": {},
   "outputs": [],
   "source": [
    "df = handle_trending_type(df)"
   ]
  },
  {
   "cell_type": "code",
   "execution_count": 11,
   "id": "69131880",
   "metadata": {},
   "outputs": [],
   "source": [
    "def handle_previous(df):\n",
    "    df = df.withColumn('previous', when(df.trending_type == \"Unchanged\", \"Unchanged\") \\\n",
    "        .otherwise(concat_ws('; ', *['category_june', 'category_july'])))\n",
    "\n",
    "    return df"
   ]
  },
  {
   "cell_type": "code",
   "execution_count": 12,
   "id": "9ff40fdd",
   "metadata": {},
   "outputs": [],
   "source": [
    "df = handle_previous(df)"
   ]
  },
  {
   "cell_type": "code",
   "execution_count": 13,
   "id": "81608b3b",
   "metadata": {},
   "outputs": [
    {
     "name": "stdout",
     "output_type": "stream",
     "text": [
      "+-------+--------------------------------+---------------+----------------------------+--------------+-------------+-----------------------+\n",
      "|user_id|most_search_june                |category_june  |most_search_july            |category_july |trending_type|previous               |\n",
      "+-------+--------------------------------+---------------+----------------------------+--------------+-------------+-----------------------+\n",
      "|1396   |yêu trong đau thuong thuýet minh|Romantic movie |phim tươi cười phấn khởi    |Comedy        |Changed      |Romantic movie; Comedy |\n",
      "|2032   |chú vẹt đuôi dài                |Animation movie|THIEN THAN BON              |Other         |Changed      |Animation movie; Other |\n",
      "|2384   |ngoc lau xuan                   |C-Drama        |vẻ đẹp đích thực            |Romantic movie|Changed      |C-Drama; Romantic movie|\n",
      "|2816   |định mệnh anh yêu em            |Romantic movie |vân tịch truyện             |C-Drama       |Changed      |Romantic movie; C-Drama|\n",
      "|3361   |tây hành kỷ                     |CN Animation   |lộc đỉnh ký                 |C-Drama       |Changed      |CN Animation; C-Drama  |\n",
      "|3361   |vuot nguc                       |Action movie   |lộc đỉnh ký                 |C-Drama       |Changed      |Action movie; C-Drama  |\n",
      "|3371   |vtv                             |TV             |hoang anh gia lai vs đà nẵng|Sport         |Changed      |TV; Sport              |\n",
      "|3691   |thế giới khủng long             |Action movie   |tiếng gọi nơi hoang dã      |Action movie  |Unchanged    |Unchanged              |\n",
      "|3926   |người yêu siêu cấp (phần 2)     |Romantic movie |học viện anh hùng phần 2    |Anime         |Changed      |Romantic movie; Anime  |\n",
      "|4007   |tom and jerry tales             |Cartoon        |doraemon                    |Cartoon       |Unchanged    |Unchanged              |\n",
      "|4857   |hồ sơ trinh sát                 |C-Drama        |pháp y tầm minh             |C-Drama       |Unchanged    |Unchanged              |\n",
      "|4908   |doraemon                        |Cartoon        |conan                       |Anime         |Changed      |Cartoon; Anime         |\n",
      "|5187   |Kim Tae Ri                      |K-Drama        |high school king of savvy   |Romantic movie|Changed      |K-Drama; Romantic movie|\n",
      "|5748   |lời nguyền ma lai               |Horror movie   |chuyen sinh thanh nhen      |Anime         |Changed      |Horror movie; Anime    |\n",
      "|7996   |phàm nhân tu tiên               |C-Drama        |thanh lạc                   |C-Drama       |Unchanged    |Unchanged              |\n",
      "|7996   |phàm nhân tu tiên (phần 2)      |C-Drama        |thanh lạc                   |C-Drama       |Unchanged    |Unchanged              |\n",
      "|8207   |CONAN                           |Anime          |TIENG ANH LOP 5             |Learning      |Changed      |Anime; Learning        |\n",
      "|9576   |THIEN KIM TRO VE                |C-Drama        |dữ quân ca                  |C-Drama       |Unchanged    |Unchanged              |\n",
      "|10270  |kênh vtv1                       |TV             |kênh truyền hình khánh hòa  |TV            |Unchanged    |Unchanged              |\n",
      "|10414  |bật thầy hoá trang              |C-Drama        |ngọt ngào dành riêng em     |C-Drama       |Unchanged    |Unchanged              |\n",
      "+-------+--------------------------------+---------------+----------------------------+--------------+-------------+-----------------------+\n",
      "only showing top 20 rows\n",
      "\n"
     ]
    }
   ],
   "source": [
    "df.show(truncate=False)"
   ]
  },
  {
   "cell_type": "code",
   "execution_count": 14,
   "id": "c8176afa",
   "metadata": {},
   "outputs": [
    {
     "data": {
      "text/plain": [
       "1000"
      ]
     },
     "execution_count": 14,
     "metadata": {},
     "output_type": "execute_result"
    }
   ],
   "source": [
    "df.count()"
   ]
  },
  {
   "cell_type": "code",
   "execution_count": 15,
   "id": "b6cca380",
   "metadata": {},
   "outputs": [],
   "source": [
    "# Save data\n",
    "df.repartition(1).write.csv('./Final_Data', header=True)"
   ]
  },
  {
   "cell_type": "code",
   "execution_count": null,
   "id": "cc3677c7",
   "metadata": {},
   "outputs": [],
   "source": []
  }
 ],
 "metadata": {
  "kernelspec": {
   "display_name": "Python 3 (ipykernel)",
   "language": "python",
   "name": "python3"
  },
  "language_info": {
   "codemirror_mode": {
    "name": "ipython",
    "version": 3
   },
   "file_extension": ".py",
   "mimetype": "text/x-python",
   "name": "python",
   "nbconvert_exporter": "python",
   "pygments_lexer": "ipython3",
   "version": "3.10.9"
  }
 },
 "nbformat": 4,
 "nbformat_minor": 5
}
