{
 "cells": [
  {
   "cell_type": "code",
   "execution_count": 1,
   "metadata": {},
   "outputs": [],
   "source": [
    "import findspark\n",
    "\n",
    "findspark.init()"
   ]
  },
  {
   "cell_type": "code",
   "execution_count": 2,
   "metadata": {},
   "outputs": [],
   "source": [
    "from pyspark.sql import SparkSession\n",
    "from pyspark.sql.functions import *"
   ]
  },
  {
   "cell_type": "code",
   "execution_count": 3,
   "metadata": {},
   "outputs": [],
   "source": [
    "spark = SparkSession.builder.getOrCreate()"
   ]
  },
  {
   "cell_type": "code",
   "execution_count": 4,
   "metadata": {},
   "outputs": [],
   "source": [
    "behavioral_df = spark.read.csv(\"./Final_Data/behavioral_data.csv\", header=True)\n",
    "interaction_df = spark.read.csv(\"./Final_Data/interaction_data.csv\", header=True)\n",
    "mapped_user_df = spark.read.csv(\"./Clean_Data/mapped_user.csv\", header=True)"
   ]
  },
  {
   "cell_type": "code",
   "execution_count": 5,
   "metadata": {},
   "outputs": [],
   "source": [
    "final_df = behavioral_df.join(mapped_user_df, \"Contract\", \"inner\").join(interaction_df, \"user_id\", \"inner\")"
   ]
  },
  {
   "cell_type": "code",
   "execution_count": 6,
   "metadata": {},
   "outputs": [
    {
     "name": "stdout",
     "output_type": "stream",
     "text": [
      "+-------+---------+-------------+-------------+-------------+-------------+----------+-------------+----------+--------------------+------+----------+----------+--------------------------------+---------------+----------------------------+--------------+-------------+-----------------------+\n",
      "|user_id|Contract |RelaxDuration|MovieDuration|ChildDuration|SportDuration|TVDuration|TotalDuration|Most_Watch|Taste               |Type  |Activeness|Clinginess|most_search_june                |category_june  |most_search_july            |category_july |trending_type|previous               |\n",
      "+-------+---------+-------------+-------------+-------------+-------------+----------+-------------+----------+--------------------+------+----------+----------+--------------------------------+---------------+----------------------------+--------------+-------------+-----------------------+\n",
      "|1396   |AGAAA0338|0            |0            |0            |0            |278633    |278633       |TV        |TV                  |Medium|30        |High      |yêu trong đau thuong thuýet minh|Romantic movie |phim tươi cười phấn khởi    |Comedy        |Changed      |Romantic movie; Comedy |\n",
      "|2032   |AGAAA0342|204          |0            |0            |0            |117788    |117992       |TV        |Relax-TV            |Medium|12        |Medium    |chú vẹt đuôi dài                |Animation movie|THIEN THAN BON              |Other         |Changed      |Animation movie; Other |\n",
      "|2384   |AGAAA0346|0            |0            |0            |0            |2056249   |2056249      |TV        |TV                  |High  |30        |High      |ngoc lau xuan                   |C-Drama        |vẻ đẹp đích thực            |Romantic movie|Changed      |C-Drama; Romantic movie|\n",
      "|2816   |AGAAA0353|0            |1665         |0            |0            |25982     |27647        |TV        |Movie-TV            |Low   |29        |Medium    |định mệnh anh yêu em            |Romantic movie |vân tịch truyện             |C-Drama       |Changed      |Romantic movie; C-Drama|\n",
      "|3361   |AGAAA0391|373          |129          |0            |0            |158931    |159433       |TV        |Relax-Movie-TV      |Medium|11        |Medium    |vuot nguc                       |Action movie   |lộc đỉnh ký                 |C-Drama       |Changed      |Action movie; C-Drama  |\n",
      "|3361   |AGAAA0391|373          |129          |0            |0            |158931    |159433       |TV        |Relax-Movie-TV      |Medium|11        |Medium    |tây hành kỷ                     |CN Animation   |lộc đỉnh ký                 |C-Drama       |Changed      |CN Animation; C-Drama  |\n",
      "|3361   |AGAAA0452|0            |0            |0            |0            |29921     |29921        |TV        |TV                  |Low   |14        |Low       |vuot nguc                       |Action movie   |lộc đỉnh ký                 |C-Drama       |Changed      |Action movie; C-Drama  |\n",
      "|3361   |AGAAA0452|0            |0            |0            |0            |29921     |29921        |TV        |TV                  |Low   |14        |Low       |tây hành kỷ                     |CN Animation   |lộc đỉnh ký                 |C-Drama       |Changed      |CN Animation; C-Drama  |\n",
      "|3371   |AGAAA0504|97           |46           |0            |0            |21313     |21456        |TV        |Relax-Movie-TV      |Low   |28        |Medium    |vtv                             |TV             |hoang anh gia lai vs đà nẵng|Sport         |Changed      |TV; Sport              |\n",
      "|3691   |AGAAA0550|0            |0            |0            |0            |2215875   |2215875      |TV        |TV                  |High  |29        |High      |thế giới khủng long             |Action movie   |tiếng gọi nơi hoang dã      |Action movie  |Unchanged    |Unchanged              |\n",
      "|3926   |AGAAA0593|0            |0            |0            |0            |1038      |1038         |TV        |TV                  |Low   |3         |Low       |người yêu siêu cấp (phần 2)     |Romantic movie |học viện anh hùng phần 2    |Anime         |Changed      |Romantic movie; Anime  |\n",
      "|4007   |AGAAA0608|0            |0            |0            |0            |2129      |2129         |TV        |TV                  |Low   |2         |Low       |tom and jerry tales             |Cartoon        |doraemon                    |Cartoon       |Unchanged    |Unchanged              |\n",
      "|4857   |AGAAA0613|26           |0            |0            |0            |9377      |9403         |TV        |Relax-TV            |Low   |24        |Medium    |hồ sơ trinh sát                 |C-Drama        |pháp y tầm minh             |C-Drama       |Unchanged    |Unchanged              |\n",
      "|4908   |AGAAA0638|0            |0            |0            |0            |227016    |227016       |TV        |TV                  |Medium|30        |High      |doraemon                        |Cartoon        |conan                       |Anime         |Changed      |Cartoon; Anime         |\n",
      "|5187   |AGAAA0663|0            |0            |0            |0            |89001     |89001        |TV        |TV                  |Medium|29        |High      |Kim Tae Ri                      |K-Drama        |high school king of savvy   |Romantic movie|Changed      |K-Drama; Romantic movie|\n",
      "|5748   |AGAAA0692|0            |0            |0            |0            |107057    |107057       |TV        |TV                  |Medium|8         |Low       |lời nguyền ma lai               |Horror movie   |chuyen sinh thanh nhen      |Anime         |Changed      |Horror movie; Anime    |\n",
      "|7996   |AGAAA0693|482          |33           |10361        |0            |233447    |244323       |TV        |Relax-Movie-Child-TV|Medium|29        |High      |phàm nhân tu tiên (phần 2)      |C-Drama        |thanh lạc                   |C-Drama       |Unchanged    |Unchanged              |\n",
      "|7996   |AGAAA0693|482          |33           |10361        |0            |233447    |244323       |TV        |Relax-Movie-Child-TV|Medium|29        |High      |phàm nhân tu tiên               |C-Drama        |thanh lạc                   |C-Drama       |Unchanged    |Unchanged              |\n",
      "|7996   |AGAAA0718|0            |0            |0            |0            |634586    |634586       |TV        |TV                  |High  |28        |High      |phàm nhân tu tiên (phần 2)      |C-Drama        |thanh lạc                   |C-Drama       |Unchanged    |Unchanged              |\n",
      "|7996   |AGAAA0718|0            |0            |0            |0            |634586    |634586       |TV        |TV                  |High  |28        |High      |phàm nhân tu tiên               |C-Drama        |thanh lạc                   |C-Drama       |Unchanged    |Unchanged              |\n",
      "+-------+---------+-------------+-------------+-------------+-------------+----------+-------------+----------+--------------------+------+----------+----------+--------------------------------+---------------+----------------------------+--------------+-------------+-----------------------+\n",
      "only showing top 20 rows\n",
      "\n"
     ]
    }
   ],
   "source": [
    "final_df.show(truncate=False)"
   ]
  },
  {
   "cell_type": "code",
   "execution_count": 7,
   "metadata": {},
   "outputs": [],
   "source": [
    "# Save data\n",
    "final_df.repartition(1).write.csv('./Final_Data', header=True)"
   ]
  },
  {
   "cell_type": "code",
   "execution_count": null,
   "metadata": {},
   "outputs": [],
   "source": []
  }
 ],
 "metadata": {
  "kernelspec": {
   "display_name": "base",
   "language": "python",
   "name": "python3"
  },
  "language_info": {
   "codemirror_mode": {
    "name": "ipython",
    "version": 3
   },
   "file_extension": ".py",
   "mimetype": "text/x-python",
   "name": "python",
   "nbconvert_exporter": "python",
   "pygments_lexer": "ipython3",
   "version": "3.10.9"
  },
  "orig_nbformat": 4
 },
 "nbformat": 4,
 "nbformat_minor": 2
}
